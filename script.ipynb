{
 "cells": [
  {
   "cell_type": "code",
   "execution_count": null,
   "metadata": {},
   "outputs": [],
   "source": [
    "from data import get_files, get_content\r\n"
   ]
  },
  {
   "cell_type": "code",
   "execution_count": null,
   "metadata": {},
   "outputs": [],
   "source": [
    "from args import get_args\r\n",
    "args = get_args(null_args=True)\r\n",
    "print(args)"
   ]
  },
  {
   "cell_type": "code",
   "execution_count": null,
   "metadata": {},
   "outputs": [],
   "source": [
    "samples = get_files(args.data_dir, viewset=args.viewset, viewlen=args.viewlen)\r\n",
    " "
   ]
  },
  {
   "cell_type": "code",
   "execution_count": null,
   "metadata": {},
   "outputs": [],
   "source": [
    "print(samples)"
   ]
  },
  {
   "cell_type": "code",
   "execution_count": 18,
   "metadata": {},
   "outputs": [
    {
     "name": "stdout",
     "output_type": "stream",
     "text": [
      "['G:\\\\program\\\\github\\\\gaitRec\\\\data\\\\gait_prime_joints\\\\001-cl-02-090', 73]\n"
     ]
    }
   ],
   "source": [
    "print(samples[0][4])"
   ]
  },
  {
   "cell_type": "code",
   "execution_count": null,
   "metadata": {},
   "outputs": [],
   "source": [
    "\r\n",
    "tensor = get_content(samples[0][4][0], clip_len=100)"
   ]
  },
  {
   "cell_type": "code",
   "execution_count": null,
   "metadata": {},
   "outputs": [],
   "source": [
    "print(tensor.shape)\r\n",
    "tensor = tensor.permute(1,2,0,3).squeeze()"
   ]
  },
  {
   "cell_type": "code",
   "execution_count": null,
   "metadata": {},
   "outputs": [],
   "source": [
    "print(tensor.shape)\r\n",
    "print(tensor[:,1,:])"
   ]
  },
  {
   "cell_type": "code",
   "execution_count": 13,
   "metadata": {},
   "outputs": [],
   "source": [
    "tensor3 = tensor[:,1,:]\r\n",
    "tensor4 = tensor[:, 10, :]\r\n",
    "tensor5 = tensor[:, 13, :]"
   ]
  },
  {
   "cell_type": "code",
   "execution_count": 21,
   "metadata": {},
   "outputs": [],
   "source": [
    "tensorp = np.concatenate([tensor[1:], tensor[-2:-1]], axis = 0)\r\n",
    "tensorn = np.concatenate([tensor[1:2], tensor[:-1]], axis = 0)"
   ]
  },
  {
   "cell_type": "code",
   "execution_count": 25,
   "metadata": {},
   "outputs": [
    {
     "name": "stdout",
     "output_type": "stream",
     "text": [
      "tensor([[[0., 0., 0.],\n",
      "         [0., 0., 0.],\n",
      "         [0., 0., 0.],\n",
      "         ...,\n",
      "         [0., 0., 0.],\n",
      "         [0., 0., 0.],\n",
      "         [0., 0., 0.]],\n",
      "\n",
      "        [[0., 0., 0.],\n",
      "         [0., 0., 0.],\n",
      "         [0., 0., 0.],\n",
      "         ...,\n",
      "         [0., 0., 0.],\n",
      "         [0., 0., 0.],\n",
      "         [0., 0., 0.]],\n",
      "\n",
      "        [[0., 0., 0.],\n",
      "         [0., 0., 0.],\n",
      "         [0., 0., 0.],\n",
      "         ...,\n",
      "         [0., 0., 0.],\n",
      "         [0., 0., 0.],\n",
      "         [0., 0., 0.]],\n",
      "\n",
      "        ...,\n",
      "\n",
      "        [[0., 0., 0.],\n",
      "         [0., 0., 0.],\n",
      "         [0., 0., 0.],\n",
      "         ...,\n",
      "         [0., 0., 0.],\n",
      "         [0., 0., 0.],\n",
      "         [0., 0., 0.]],\n",
      "\n",
      "        [[0., 0., 0.],\n",
      "         [0., 0., 0.],\n",
      "         [0., 0., 0.],\n",
      "         ...,\n",
      "         [0., 0., 0.],\n",
      "         [0., 0., 0.],\n",
      "         [0., 0., 0.]],\n",
      "\n",
      "        [[0., 0., 0.],\n",
      "         [0., 0., 0.],\n",
      "         [0., 0., 0.],\n",
      "         ...,\n",
      "         [0., 0., 0.],\n",
      "         [0., 0., 0.],\n",
      "         [0., 0., 0.]]])\n"
     ]
    }
   ],
   "source": []
  },
  {
   "cell_type": "code",
   "execution_count": 15,
   "metadata": {},
   "outputs": [
    {
     "name": "stdout",
     "output_type": "stream",
     "text": [
      "torch.Size([100, 3])\n"
     ]
    }
   ],
   "source": [
    "print(tensor4.shape)"
   ]
  },
  {
   "cell_type": "code",
   "execution_count": null,
   "metadata": {},
   "outputs": [],
   "source": [
    "tensor2 = tensor - tensor[:,1:2,:]\r\n",
    "print(tensor2[:,10,:])"
   ]
  },
  {
   "cell_type": "code",
   "execution_count": 19,
   "metadata": {},
   "outputs": [
    {
     "data": {
      "text/plain": "[<matplotlib.lines.Line2D at 0x2b74f77dd00>,\n <matplotlib.lines.Line2D at 0x2b74f77df10>]"
     },
     "execution_count": 19,
     "metadata": {},
     "output_type": "execute_result"
    },
    {
     "data": {
      "image/png": "[encoded data removed]",
      "text/plain": "<Figure size 432x288 with 2 Axes>"
     },
     "metadata": {
      "needs_background": "light"
     },
     "output_type": "display_data"
    }
   ],
   "source": [
    "import numpy as np\r\n",
    "import matplotlib.pyplot as plt\r\n",
    "fig, axs = plt.subplots(1,2)\r\n",
    "\r\n",
    "t = np.arange(100)\r\n",
    "s1 = tensor5[:,0]\r\n",
    "s2 = tensor5[:,1]\r\n",
    "axs[0].plot(t, s1, t, s2)\r\n",
    "# axs[1].cohere(s1, s2, 6, 25)"
   ]
  },
  {
   "cell_type": "code",
   "execution_count": null,
   "metadata": {},
   "outputs": [],
   "source": [
    "def contiguous_regions(condition):\r\n",
    "    \"\"\"Finds contiguous True regions of the boolean array \"condition\". Returns\r\n",
    "    a 2D array where the first column is the start index of the region and the\r\n",
    "    second column is the end index.\"\"\"\r\n",
    "\r\n",
    "    # Find the indicies of changes in \"condition\"\r\n",
    "    d = np.diff(condition)\r\n",
    "    idx, = d.nonzero() \r\n",
    "\r\n",
    "    # We need to start things after the change in \"condition\". Therefore, \r\n",
    "    # we'll shift the index by 1 to the right.\r\n",
    "    idx += 1\r\n",
    "\r\n",
    "    if condition[0]:\r\n",
    "        # If the start of condition is True prepend a 0\r\n",
    "        idx = np.r_[0, idx]\r\n",
    "\r\n",
    "    if condition[-1]:\r\n",
    "        # If the end of condition is True, append the length of the array\r\n",
    "        idx = np.r_[idx, condition.size] # Edit\r\n",
    "\r\n",
    "    # Reshape the result into two columns\r\n",
    "    idx.shape = (-1,2)\r\n",
    "    return idx\r\n",
    "\r\n",
    "def find_region(condition):\r\n",
    "    max_length = 0 \r\n",
    "    return_s = 0\r\n",
    "    return_e = 0\r\n",
    "    for start, stop in contiguous_regions(condition):\r\n",
    "        t = stop - start\r\n",
    "        if max_length < t:\r\n",
    "            return_s = start\r\n",
    "            return_e = stop\r\n",
    "            max_length = t\r\n",
    "    return return_s, return_e\r\n",
    "\r\n"
   ]
  },
  {
   "cell_type": "code",
   "execution_count": null,
   "metadata": {},
   "outputs": [],
   "source": [
    "img_r = \"dvs/pic/7/3/3_3/2.png\"\r\n",
    "import cv2\r\n",
    "img = cv2.imread(img_r)\r\n",
    "print(img.shape)\r\n",
    "gray = cv2.cvtColor(img, cv2.COLOR_BGR2GRAY)\r\n",
    "gray = cv2.GaussianBlur(gray, (5,5), 1)\r\n",
    "gray = cv2.fastNlMeansDenoising(gray,h = 10, templateWindowSize = 7)\r\n",
    "cv2.imwrite(\"a.png\", gray)\r\n",
    "\r\n",
    "\r\n",
    "sm = gray.sum(0)\r\n",
    "condition = sm > min(sm)\r\n",
    "s,e = find_region(condition)\r\n",
    "l = e - s\r\n",
    "s = max(0, s - l // 4)\r\n",
    "e = min(gray.shape[1] - 1, e + l // 4)\r\n",
    "img = img[:, s:e]\r\n",
    "\r\n",
    "sm = gray.sum(1)\r\n",
    "condition = sm > min(sm)\r\n",
    "s,e = find_region(condition)\r\n",
    "l = e - s\r\n",
    "s = max(0, s - l // 4)\r\n",
    "e = min(gray.shape[0] - 1, e + l // 4)\r\n",
    "img = img[s:e, :]\r\n",
    "cv2.imwrite(\"r.png\", img)\r\n",
    "\r\n",
    "\r\n",
    "\r\n",
    "\r\n",
    "import matplotlib.pyplot as plt\r\n",
    "import numpy as np\r\n",
    "\r\n",
    "fig, axs = plt.subplots(1,2)\r\n",
    "\r\n",
    "t = np.arange(len(sm))\r\n",
    "axs[0].plot(t, sm)\r\n"
   ]
  }
 ],
 "metadata": {
  "kernelspec": {
   "display_name": "Python 3.8.6 64-bit ('pytorch': conda)",
   "metadata": {
    "interpreter": {
     "hash": "3a09b3adf49bfed069595802816f0d186c15669861b43605ebe7b3962c5c9af8"
    }
   },
   "name": "python3"
  },
  "language_info": {
   "codemirror_mode": {
    "name": "ipython",
    "version": 3
   },
   "file_extension": ".py",
   "mimetype": "text/x-python",
   "name": "python",
   "nbconvert_exporter": "python",
   "pygments_lexer": "ipython3",
   "version": "3.8.6"
  },
  "orig_nbformat": 2
 },
 "nbformat": 4,
 "nbformat_minor": 2
}